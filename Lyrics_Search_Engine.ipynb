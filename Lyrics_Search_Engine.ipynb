{
  "cells": [
    {
      "cell_type": "code",
      "execution_count": null,
      "metadata": {
        "id": "Bs_Yq28K1ufL"
      },
      "outputs": [],
      "source": [
        "import numpy as np\n",
        "import pandas as pd\n",
        "import spacy\n",
        "import string\n",
        "import gensim\n",
        "import operator\n",
        "import re"
      ]
    },
    {
      "cell_type": "code",
      "execution_count": null,
      "metadata": {
        "colab": {
          "base_uri": "https://localhost:8080/"
        },
        "id": "4ljCHoYW8qjs",
        "outputId": "d88dbc03-f926-48c0-eb80-fa81ec5beac5"
      },
      "outputs": [
        {
          "output_type": "stream",
          "name": "stderr",
          "text": [
            "Skipping line 78462: unexpected end of data\n"
          ]
        }
      ],
      "source": [
        "csv_file = '/content/drive/MyDrive/songLyrics.csv'\n",
        "\n",
        "df_lyrics = pd.read_csv(csv_file, engine='python', on_bad_lines='warn')"
      ]
    },
    {
      "cell_type": "code",
      "execution_count": null,
      "metadata": {
        "colab": {
          "base_uri": "https://localhost:8080/",
          "height": 633
        },
        "id": "beR_J6l58x8W",
        "outputId": "7f41fab8-28b0-47ea-a03a-a07dc922dbcd"
      },
      "outputs": [
        {
          "output_type": "execute_result",
          "data": {
            "text/html": [
              "\n",
              "  <div id=\"df-4ff30b5c-8986-458d-8d9d-dba10bf8dc7a\">\n",
              "    <div class=\"colab-df-container\">\n",
              "      <div>\n",
              "<style scoped>\n",
              "    .dataframe tbody tr th:only-of-type {\n",
              "        vertical-align: middle;\n",
              "    }\n",
              "\n",
              "    .dataframe tbody tr th {\n",
              "        vertical-align: top;\n",
              "    }\n",
              "\n",
              "    .dataframe thead th {\n",
              "        text-align: right;\n",
              "    }\n",
              "</style>\n",
              "<table border=\"1\" class=\"dataframe\">\n",
              "  <thead>\n",
              "    <tr style=\"text-align: right;\">\n",
              "      <th></th>\n",
              "      <th>song</th>\n",
              "      <th>year</th>\n",
              "      <th>artist</th>\n",
              "      <th>genre</th>\n",
              "      <th>lyrics</th>\n",
              "    </tr>\n",
              "  </thead>\n",
              "  <tbody>\n",
              "    <tr>\n",
              "      <th>0</th>\n",
              "      <td>ego-remix</td>\n",
              "      <td>2009-01-01</td>\n",
              "      <td>beyonce-knowles</td>\n",
              "      <td>Pop</td>\n",
              "      <td>Oh baby, how you doing? You know I'm gonna cut...</td>\n",
              "    </tr>\n",
              "    <tr>\n",
              "      <th>1</th>\n",
              "      <td>then-tell-me</td>\n",
              "      <td>2009-01-01</td>\n",
              "      <td>beyonce-knowles</td>\n",
              "      <td>Pop</td>\n",
              "      <td>playin' everything so easy, it's like you seem...</td>\n",
              "    </tr>\n",
              "    <tr>\n",
              "      <th>2</th>\n",
              "      <td>honesty</td>\n",
              "      <td>2009-01-01</td>\n",
              "      <td>beyonce-knowles</td>\n",
              "      <td>Pop</td>\n",
              "      <td>If you search For tenderness It isn't hard to ...</td>\n",
              "    </tr>\n",
              "    <tr>\n",
              "      <th>3</th>\n",
              "      <td>you-are-my-rock</td>\n",
              "      <td>2009-01-01</td>\n",
              "      <td>beyonce-knowles</td>\n",
              "      <td>Pop</td>\n",
              "      <td>Oh oh oh I, oh oh oh I [Verse 1:] If I wrote a...</td>\n",
              "    </tr>\n",
              "    <tr>\n",
              "      <th>4</th>\n",
              "      <td>black-culture</td>\n",
              "      <td>2009-01-01</td>\n",
              "      <td>beyonce-knowles</td>\n",
              "      <td>Pop</td>\n",
              "      <td>Party the people, the people the party it's po...</td>\n",
              "    </tr>\n",
              "    <tr>\n",
              "      <th>...</th>\n",
              "      <td>...</td>\n",
              "      <td>...</td>\n",
              "      <td>...</td>\n",
              "      <td>...</td>\n",
              "      <td>...</td>\n",
              "    </tr>\n",
              "    <tr>\n",
              "      <th>78455</th>\n",
              "      <td>no-surprise</td>\n",
              "      <td>2011-01-01</td>\n",
              "      <td>chris-daughtry</td>\n",
              "      <td>Rock</td>\n",
              "      <td>I've practiced this for hours, gone round and ...</td>\n",
              "    </tr>\n",
              "    <tr>\n",
              "      <th>78456</th>\n",
              "      <td>ride-it</td>\n",
              "      <td>2007-01-01</td>\n",
              "      <td>geri-halliwell</td>\n",
              "      <td>Pop</td>\n",
              "      <td>I'll keep riding it I'll keep riding it Want t...</td>\n",
              "    </tr>\n",
              "    <tr>\n",
              "      <th>78457</th>\n",
              "      <td>so-i-give-up-on-love</td>\n",
              "      <td>2007-01-01</td>\n",
              "      <td>geri-halliwell</td>\n",
              "      <td>Pop</td>\n",
              "      <td>Good evening ladies and gentlemen, And boys yo...</td>\n",
              "    </tr>\n",
              "    <tr>\n",
              "      <th>78458</th>\n",
              "      <td>half-of-me</td>\n",
              "      <td>2013-01-01</td>\n",
              "      <td>geri-halliwell</td>\n",
              "      <td>Pop</td>\n",
              "      <td>Just like an apple, Cut down the middle I only...</td>\n",
              "    </tr>\n",
              "    <tr>\n",
              "      <th>78459</th>\n",
              "      <td>passion</td>\n",
              "      <td>2005-01-01</td>\n",
              "      <td>geri-halliwell</td>\n",
              "      <td>Pop</td>\n",
              "      <td>There's something in my heart That I'm burning...</td>\n",
              "    </tr>\n",
              "  </tbody>\n",
              "</table>\n",
              "<p>78460 rows × 5 columns</p>\n",
              "</div>\n",
              "      <button class=\"colab-df-convert\" onclick=\"convertToInteractive('df-4ff30b5c-8986-458d-8d9d-dba10bf8dc7a')\"\n",
              "              title=\"Convert this dataframe to an interactive table.\"\n",
              "              style=\"display:none;\">\n",
              "        \n",
              "  <svg xmlns=\"http://www.w3.org/2000/svg\" height=\"24px\"viewBox=\"0 0 24 24\"\n",
              "       width=\"24px\">\n",
              "    <path d=\"M0 0h24v24H0V0z\" fill=\"none\"/>\n",
              "    <path d=\"M18.56 5.44l.94 2.06.94-2.06 2.06-.94-2.06-.94-.94-2.06-.94 2.06-2.06.94zm-11 1L8.5 8.5l.94-2.06 2.06-.94-2.06-.94L8.5 2.5l-.94 2.06-2.06.94zm10 10l.94 2.06.94-2.06 2.06-.94-2.06-.94-.94-2.06-.94 2.06-2.06.94z\"/><path d=\"M17.41 7.96l-1.37-1.37c-.4-.4-.92-.59-1.43-.59-.52 0-1.04.2-1.43.59L10.3 9.45l-7.72 7.72c-.78.78-.78 2.05 0 2.83L4 21.41c.39.39.9.59 1.41.59.51 0 1.02-.2 1.41-.59l7.78-7.78 2.81-2.81c.8-.78.8-2.07 0-2.86zM5.41 20L4 18.59l7.72-7.72 1.47 1.35L5.41 20z\"/>\n",
              "  </svg>\n",
              "      </button>\n",
              "      \n",
              "  <style>\n",
              "    .colab-df-container {\n",
              "      display:flex;\n",
              "      flex-wrap:wrap;\n",
              "      gap: 12px;\n",
              "    }\n",
              "\n",
              "    .colab-df-convert {\n",
              "      background-color: #E8F0FE;\n",
              "      border: none;\n",
              "      border-radius: 50%;\n",
              "      cursor: pointer;\n",
              "      display: none;\n",
              "      fill: #1967D2;\n",
              "      height: 32px;\n",
              "      padding: 0 0 0 0;\n",
              "      width: 32px;\n",
              "    }\n",
              "\n",
              "    .colab-df-convert:hover {\n",
              "      background-color: #E2EBFA;\n",
              "      box-shadow: 0px 1px 2px rgba(60, 64, 67, 0.3), 0px 1px 3px 1px rgba(60, 64, 67, 0.15);\n",
              "      fill: #174EA6;\n",
              "    }\n",
              "\n",
              "    [theme=dark] .colab-df-convert {\n",
              "      background-color: #3B4455;\n",
              "      fill: #D2E3FC;\n",
              "    }\n",
              "\n",
              "    [theme=dark] .colab-df-convert:hover {\n",
              "      background-color: #434B5C;\n",
              "      box-shadow: 0px 1px 3px 1px rgba(0, 0, 0, 0.15);\n",
              "      filter: drop-shadow(0px 1px 2px rgba(0, 0, 0, 0.3));\n",
              "      fill: #FFFFFF;\n",
              "    }\n",
              "  </style>\n",
              "\n",
              "      <script>\n",
              "        const buttonEl =\n",
              "          document.querySelector('#df-4ff30b5c-8986-458d-8d9d-dba10bf8dc7a button.colab-df-convert');\n",
              "        buttonEl.style.display =\n",
              "          google.colab.kernel.accessAllowed ? 'block' : 'none';\n",
              "\n",
              "        async function convertToInteractive(key) {\n",
              "          const element = document.querySelector('#df-4ff30b5c-8986-458d-8d9d-dba10bf8dc7a');\n",
              "          const dataTable =\n",
              "            await google.colab.kernel.invokeFunction('convertToInteractive',\n",
              "                                                     [key], {});\n",
              "          if (!dataTable) return;\n",
              "\n",
              "          const docLinkHtml = 'Like what you see? Visit the ' +\n",
              "            '<a target=\"_blank\" href=https://colab.research.google.com/notebooks/data_table.ipynb>data table notebook</a>'\n",
              "            + ' to learn more about interactive tables.';\n",
              "          element.innerHTML = '';\n",
              "          dataTable['output_type'] = 'display_data';\n",
              "          await google.colab.output.renderOutput(dataTable, element);\n",
              "          const docLink = document.createElement('div');\n",
              "          docLink.innerHTML = docLinkHtml;\n",
              "          element.appendChild(docLink);\n",
              "        }\n",
              "      </script>\n",
              "    </div>\n",
              "  </div>\n",
              "  "
            ],
            "text/plain": [
              "                       song  ...                                             lyrics\n",
              "0                 ego-remix  ...  Oh baby, how you doing? You know I'm gonna cut...\n",
              "1              then-tell-me  ...  playin' everything so easy, it's like you seem...\n",
              "2                   honesty  ...  If you search For tenderness It isn't hard to ...\n",
              "3           you-are-my-rock  ...  Oh oh oh I, oh oh oh I [Verse 1:] If I wrote a...\n",
              "4             black-culture  ...  Party the people, the people the party it's po...\n",
              "...                     ...  ...                                                ...\n",
              "78455           no-surprise  ...  I've practiced this for hours, gone round and ...\n",
              "78456               ride-it  ...  I'll keep riding it I'll keep riding it Want t...\n",
              "78457  so-i-give-up-on-love  ...  Good evening ladies and gentlemen, And boys yo...\n",
              "78458            half-of-me  ...  Just like an apple, Cut down the middle I only...\n",
              "78459               passion  ...  There's something in my heart That I'm burning...\n",
              "\n",
              "[78460 rows x 5 columns]"
            ]
          },
          "metadata": {},
          "execution_count": 3
        }
      ],
      "source": [
        "df_lyrics"
      ]
    },
    {
      "cell_type": "code",
      "execution_count": null,
      "metadata": {
        "id": "19yqmrUN-fgs"
      },
      "outputs": [],
      "source": [
        "from spacy.lang.en.stop_words import STOP_WORDS\n",
        "\n",
        "spacy_nlp = spacy.load('en_core_web_sm')\n",
        "\n",
        "#create list of punctuations and stopwords\n",
        "punctuations = string.punctuation\n",
        "stop_words = spacy.lang.en.stop_words.STOP_WORDS\n",
        "\n",
        "#function for data cleaning and processing\n",
        "#This can be further enhanced by adding / removing reg-exps as desired.\n",
        "\n",
        "def spacy_tokenizer(sentence):\n",
        "\n",
        "    #remove distracting single quotes\n",
        "    sentence = re.sub('\\'','',sentence)\n",
        "\n",
        "    #remove digits adnd words containing digits\n",
        "    sentence = re.sub('\\w*\\d\\w*','',sentence)\n",
        "\n",
        "    #replace extra spaces with single space\n",
        "    sentence = re.sub(' +',' ',sentence)\n",
        "\n",
        "    #remove unwanted lines starting from special charcters\n",
        "    sentence = re.sub(r'\\n: \\'\\'.*','',sentence)\n",
        "    sentence = re.sub(r'\\n!.*','',sentence)\n",
        "    sentence = re.sub(r'^:\\'\\'.*','',sentence)\n",
        "\n",
        "    #remove non-breaking new line characters\n",
        "    sentence = re.sub(r'\\n',' ',sentence)\n",
        "\n",
        "    #remove punctunations\n",
        "    sentence = re.sub(r'[^\\w\\s]',' ',sentence)\n",
        "\n",
        "    #creating token object\n",
        "    tokens = spacy_nlp(sentence)\n",
        "\n",
        "    #lower, strip and lemmatize\n",
        "    tokens = [word.lemma_.lower().strip() if word.lemma_ != \"-PRON-\" else word.lower_ for word in tokens]\n",
        "\n",
        "    #remove stopwords, and exclude words less than 2 characters\n",
        "    tokens = [word for word in tokens if word not in stop_words and word not in punctuations and len(word) > 2]\n",
        "\n",
        "    #return tokens\n",
        "    return tokens"
      ]
    },
    {
      "cell_type": "code",
      "execution_count": null,
      "metadata": {
        "colab": {
          "base_uri": "https://localhost:8080/"
        },
        "id": "NC-tEm1bN-AK",
        "outputId": "21d33d58-dce1-4efc-f417-b7a8e0830db0"
      },
      "outputs": [
        {
          "output_type": "execute_result",
          "data": {
            "text/plain": [
              "[array([\"Oh baby, how you doing? You know I'm gonna cut right to the chase Some women were made but me, myself I like to think that I was created for a special purpose You know, what's more special than you? You feel me It's on baby, let's get lost You don't need to call into work 'cause you're the boss For real, want you to show me how you feel I consider myself lucky, that's a big deal Why? Well, you got the key to my heart But you ain't gonna need it, I'd rather you open up my body And show me secrets, you didn't know was inside No need for me to lie It's too big, it's too wide It's too strong, it won't fit It's too much, it's too tough He talk like this 'cause he can back it up He got a big ego, such a huge ego I love his big ego, it's too much He walk like this 'cause he can back it up Usually I'm humble, right now I don't choose You can leave with me or you could have the blues Some call it arrogant, I call it confident You decide when you find on what I'm working with Damn I know I'm killing you with them legs Better yet them thighs Matter a fact it's my smile or maybe my eyes Boy you a site to see, kind of something like me It's too big, it's too wide It's too strong, it won't fit It's too much, it's too tough I talk like this 'cause I can back it up I got a big ego, such a huge ego But he love my big ego, it's too much I walk like this 'cause I can back it up I, I walk like this 'cause I can back it up I, I talk like this 'cause I can back it up I, I can back it up, I can back it up I walk like this 'cause I can back it up It's too big, it's too wide It's too strong, it won't fit It's too much, it's too tough He talk like this 'cause he can back it up He got a big ego, such a huge ego, such a huge ego I love his big ego, it's too much He walk like this 'cause he can back it up Ego so big, you must admit I got every reason to feel like I'm that bitch Ego so strong, if you ain't know I don't need no beat, I can sing it with piano\",\n",
              "        \"playin' everything so easy, it's like you seem so sure. still your ways, you dont see i'm not sure if they're for me. then things come right along our way, though we didn't truly ask. it seems as if they're gonna linger with every delight they bring, just like what you have truly seemed. i'm trying to think of what you really want to say, even through my darkest day. you might want to leave me, feeling strange about you like you're gonna let me know, when words then slipped out of you. when words dont come so easy to say you just leave me feeling, come what may though i want things coming from your way. i say to you, you bore me all the time when you seem to hold back all in you, all that you want to let me know. why dont you have the courage? speak up and i'll listen, if you truly want me to know, then tell me. is there something wrong with you and you seem fastened there. it sounds as if there'll be a melody if things in you are let out and then i will feel alright. when you sleep, do you feel the same, exactly as i do? i really want to hear things from you, though i've felt something new eversince you acted that way. if i go, would you still mind telling me? if i stay, you seem to let the days go by. if you truly want to let me know, then tell me.\",\n",
              "        \"If you search For tenderness It isn't hard to find You can have the love You need to live But if you look For truthfulness You might just As well be blind It always seems to be So hard to give Chorus: Honesty Is such a lonely word Everyone is so untrue Honesty Is hardly ever heard And mostly What I need from you I can always Find someone To say They sympathize If I wear my heart Out on my sleeve But I don't want Some pretty face To tell me Pretty lies All I want Is someone To believe (Chorus) I can find a lover I can find a friend I can have security Until the bitter end Anyone can comfort me With promises again I know, I know When I'm deep Inside of me Don't be Too concerned I won't ask For nothin' While I'm gone But when I want Sincerity Tell me where else Can I turn When You're the one That I depend upon (Chorus)\",\n",
              "        ...,\n",
              "        \"There was a girl who used to live At the grey house by the bridge At the edge of the empty world Carmen's the name That evokes the fear and shame From the people that she left behind She had the spirit To live her life so free Although many people wanted to clip her wings She ran away She broke away the chains That they wrapped around her heart The people said, out of all the things she's done The worst one was just leaving without saying goodbye The people said, out of all the things she's done The worst one was just leaving without saying goodbye Goodbye (say goodbye) Goodbye (say goodbye) Carmen The voices cry out Carmen The voices die out Carmen The voices cry out Carmen The voices die out (Oh, oh, oh) (Oh, oh, oh) (Oh, oh, oh) (Oh) Carmen The voices cried out Carmen The voices died out\",\n",
              "        \"(claude s.) I heard you ask about the end Of the world, so I felt it come To pass. mega-tivity multiples With the first thought to the Last...i say, 'please don't Worry'...you say I am naive I say 'we should hurry'... 'anything that you believe Is the way it's going to be' We're falling, yeah we're Falling, falling in the negaverse, Falling, yeah we're falling In the negaverse... Dressed in grey as a means to an End, can't you see the fallacy. Dwelling on decay brings it near, All we need is to ascend... You say, I am imperfect...you seem So oppressed. I hear all your words Yet, I am not the one who said Everything will burn again, We're falling, yeah we're Falling, falling in the negaverse, Falling, yeah we're falling In the negaverse... There are dark times far ahead, as Your mind collides again, Are you going to hide away, Till the end...of the world...? We're falling, yeah we're Falling, falling in the negaverse, Falling, yeah we're falling In the negaverse... There are dark clouds overhead, Waning moon obscures the sun, Breaks the silence as you run, it's The end...of the world...now...\",\n",
              "        'Today I thought the world would end And I thought I\\'d lose a friend To silence The sunlight washed all the cold away Cleared the darkness from the rain In silence You took my hand, I was surprised Then you whispered, \"You are mine Come away\" I turned away from loving you There was nothing I could do Come away I was once an angry man Blackened by the empty hands Of silence I locked my love inside a room Tomorrow\\'s whispers turned to stone In silence You took my hand, I was surprised Then you whispered, \"You are mine Come away\" I turned away from loving you There was nothing I could do Come away I was once an angry man I locked my love in a room Inside me, it binds me You took my hand, I was surprised Then you whispered, \"You are mine Come away\" I turned away from loving you There was nothing I could do Come away Come away, come away'],\n",
              "       dtype=object),\n",
              " array([\"(paul rijnders) Hush hush, hurry into the dark room And try to forget the words They seep into your head. The rules, are broken tonight They can't haunt you anymore, Tonight... On a silver platter, How hard I found the words And still, I carry the hurt. It was too hard to see, And it drove inside of me. I can't stand to bear the sores I can't stand you anymore. Since the night I left you, Since the night I shared, All of my emotions, All the pain I felt, Since the night I left you, Since the night I shared, All of my emotions, My lady in waiting... Since the night I left you, Since the night I shared, All of my emotions, All the pain I felt, Since the night I left you, Since the night I shared, All of my emotions, My lady in waiting... (repeat until end)\",\n",
              "        \"Freedom of life, I will express my soul Look me in the eye and electrify my bones I ain't gonna leave until you know my name Stepping out of the shell, now don't you step in my way Build another wall and watch it crumble by your side I'm coming home I'm not holding back no I ain't wasting time If you want me near then you must come for the ride If your sky will fall, I'll shelter you from the rain There's not a cloud in the sky that can come in the way Roaming through fields, I'm trying to find this new land It's only Because I'm here , I'm finding gold in my hands I'm coming home I'm coming home Trying to build up the words to say what you mean to me Gonna open your eyes and let you know what I mean Ohh aaahhh Ohh aaahhh Gonna take on this journey feel the light getting warm Find the strength I've been searching keep the beat going strong Keep the gloves on for fighting don't you knock on my door Yeah the spirits alive I'm on the road coming home. I'm coming home I'm coming home I'm coming home I'm coming home\",\n",
              "        \"Play fool to catch wise, ghetto youth, time to rise up! You must play fool to catch wise, yow, time to rise and shine! Play fool to catch wise, ghetto youth elemental surprise. Play fool to catch wise, ever shine! Yow! Kaa' when di system pressure youth wat a thing?! Jobless, empty pocket and nuh formal sekklement. And so di youth take up badness, start hustling. Im fire the black iron and nuh Zion cyaan nuh save im from judgement. Time to follow righteousness, get some meditation. Some youth just left behind, last seen a smelt some medication. Good ova evil is the final confrontation. Look forward for a global emancipation, yow! Play fool to catch wise, ghetto youth elemental surprise. Play fool to catch wise, ever shine, ever bright, ever rise! Play fool to catch wise, ghetto youth elemental surprise. Play fool to catch wise, ever shine, yow! And when one door is closed many more a open. Bob Marley said it, yes, and we neva eva doubt it. The situation tuff, bad, make we face it. Opportunities, roast dinner, and few cyaan really make it. No job a no justice, and youth a move drastic. 'Nuff a dem a end up in a plyboard casket. Running from police, dat a dem gymnastic. That's why Jamaican youth Dem dem a send it like elastic. Play fool to catch wise, ghetto youth elemental surprise. Play fool to catch wise, ever shine, ever bright, ever rise! Politician set it, di youth dem a regret it. Poor people don't drink wata, minister eat spagetti. Ghetto youth dem sceptic, di plan most effective. Situation ruff, so, who's goin' correct it? Time to follow righteousness, get some meditation. Some youth just left behind, last seen a smelt some medication. Good ova evil is the final confrontation. Look forward for a global emancipation, yow! Play fool to catch wise, ghetto youth elemental surprise. Play fool to catch wise, ever shine, ever bright, ever rise! Play fool to catch wise, ghetto youth elemental surprise. Play fool to catch wise, ever shine, yow!\",\n",
              "        ...,\n",
              "        'SÃ© que fallÃ© y te perdÃ\\xad, Â¿cÃ³mo olvidar? Y ahora grito tan fuerte cÃ³mo deseo tenerte otra vez En el amor hay que perdonar, sÃ© que algÃºn dÃ\\xada tÃº volverÃ¡s En el amor hay que perdonar, sÃ© que algÃºn dÃ\\xada tÃº volverÃ¡s Espero que no sea tarde Y puedas volver a amarme VerÃ¡s en mÃ\\xad un cambio radical Me siento con frÃ\\xado y pÃ¡nico Descalza en el suelo Ã¡rtico Ten compasiÃ³n, no me castigues mÃ¡s En el amor hay que perdonar, sÃ© que algÃºn dÃ\\xada tÃº volverÃ¡s En el amor hay que perdonar, sÃ© que algÃºn dÃ\\xada tÃº volverÃ¡s Quiero saber de mi pecado Eso que no me has contado Y tal vez no sea verdad El amor es arte y ensayo Y hoy de tus errores yo callo Cuando se ama hay que perdonar Entre la sombra que ilumina el sol Veo el reflejo de nuestro esplendor SÃ© que no es el final Por ti siempre voy a esperar SÃ© que algÃºn dÃ\\xada tÃº volverÃ¡s En el amor hay que perdonar, sÃ© que algÃºn dÃ\\xada tÃº volverÃ¡s En el amor volverÃ¡s tÃº volverÃ¡s tÃº volverÃ¡s',\n",
              "        'Y cruzarÃ\\xada mil desiertos por robarle arena al tiempo Le venderÃ\\xada mi alma al diablo por besar de nuevo tus labios Y bailarÃ\\xada sobre el fuego por hacer ceniza el miedo Y dormirÃ\\xada sobre el hielo por tenerte siempre en mis sueÃ±os Drop it now. PodrÃ¡n pasar los dias en vano y te recuerdo como si fuera ayer Mis pies caminan en libertad Tarde o temprano te volverÃ© a encontrar Y cruzarÃ\\xada mil desiertos por robarle arena al tiempo Le venderÃ\\xada mi alma al diablo por besar de nuevo tus labios Y bailarÃ\\xada sobre el fuego por hacer ceniza el miedo Y dormirÃ\\xada sobre el hielo por tenerte siempre en mis sueÃ±os Drop it now. Contigo alcanzaba la inmensidad, amaba tu fuerza y tu fragilidad. Lo mundano era profundidad, y lo profundo era pura sensualidad. Y cruzarÃ\\xada mil desiertos por robarle arena al tiempo. Le venderÃ\\xada mi alma al diablo por besar de nuevo tus labios. Y bailarÃ\\xada sobre el fuego por hacer ceniza el miedo Y dormirÃ\\xada sobre el hielo por tenerte siempre en mis sueÃ±os',\n",
              "        'Blue painted sea Watercolors in my dreams A purple pink colored day Always in the midst of some Imaginary place California floating in space And the sun so bright With ideas in my mind Imaginary place California floating in space And the sun so bright Valley falls and mountainside Bouncing through a beach ball lullaby Evergreens and summer skies Even orange poppy lie Speak to me in songs sung with my eyes Watching sand where beaches lie As do I Imaginary place California floating in space Imaginary place California floating in space Imaginary place California floating in space Imaginary place California floating in space Imaginary place California floating in space'],\n",
              "       dtype=object),\n",
              " array([\"Sitting on the green green grass I know the sky is blue And I know that this is true So do you In this world the rainbow has So many colors to see There is red, red yellow and green And there's blue There are so many colors What color are you? When I look at the rainbow (oh oh) I only see them with you Oooooooooh... Red, yellow and blue and green And I only see them with you (I only see them with you) Red, yellow and blue and green And I only see them with you (I only see them with you) Red, yellow and blue and green And I only see them with you With you With you (I only see them with you) Sitting on the green green grass I know the sky is blue And I know that this is true So do you In this world the rainbow Has so many colors to see There is red, red, yellow and green And there's blue There are so many colors What color are you? When I look at the rainbow (oh oh) I only see them with you Oooooooooh... Red, yellow and blue and green And I only see them with you (I only see them with you) Red, yellow and blue and green And I only see them with you (I only see them with you) Red, yellow and blue and green And I only see them with you (I only see them with you) I see red and white and blue and gold And white and blue and white and orange And pink and white and blue and orange Outside of my mind's window And I and I can only see them with you Can you see them too? With me with you Can you see them too? With me with you With me with you With me with you (I only see them with you)\",\n",
              "        'Blue skies and brown eyes Tulips by the riverside And your mind is always lost inside And I knew it was you Who had a different point of view And I paid no mind To the soul I lost inside A web of nightime skies The stars went up the mountainside And my music made you feel alright And I knew it was you Who had a different point of view And I paid no mind To the soul I lost inside The blue skies and brown eyes Tulips by the riverside And your mind is always lost in flight And I knew it was you Who had a different point of view I paid no mind To the soul I lost inside I knew it was you Who had a different point of view I paid no mind To the soul I lost inside Do do do do do do do do do do do oooh',\n",
              "        \"The stars have eyes Of brilliant green They know what I do And all the days that I've seen And they see you Sleeping in your car And daydreaming too You're swinging on a star I'm gonna stand here night and noon Staring at the moon The stars have eyes Like a springtime dream Keepin' us cool And keepin' us clean And they see you Playin' air guitar And singing it too I'm thinking you'll go far I'm gonna stand here night and noon Staring at the moon\",\n",
              "        ...,\n",
              "        \"I just got home one hour ago. And I didn't want anyone to see me like this. Let's go. We'll build bridges to get us across. Yes we will start some wars before they start on us. I never thought that I could be so human.\",\n",
              "        \"We don't need no calculator. We've got the math. We don't need no measurements. And we don't need a graph.\",\n",
              "        \"Cuban heels and Cuban deals. She got in trouble with the law. Hanging out in discos and smoking cigarettes in vintage cars. It's not like she's misunderstood. Hanging out with movie stars and smoking cigarettes in vintage cars. It's a lot to throw away.\"],\n",
              "       dtype=object),\n",
              " array([\"Hearts in clubs and shapes and diamonds. In my old town you can smell the violence. We played the house and the house always won. I know it sucks and we can move to the city. We can start again. And the whole damn story started like this. I bet on diamonds and I lost everything. So I'm never betting on diamonds again. D-I-A-M-O-N-D-S!\",\n",
              "        \"There is a list of everybody I don't like, alright. Congratulations, you're number (one, two, three, four) five. Drop down to the ground. I wish that you would. Don't stop apologizing. I've gotta girl who likes to hold my hand. And this love is gonna last.\",\n",
              "        \"A hundred miles an hour. A hundred different girls inside a week. A hundred miles an hour. A hundred different discos and no sleep. A girl is nothing without a boy. A boy is nothing without a car. I love somebody who loves somebody who loves somebody much taller than me. And we're much too old to have time to kill.\",\n",
              "        ...,\n",
              "        \"Thought everything was perfect, but now I'm left deserted. red handed, caught cheating, my hearts beating. Do I deserve this? I used to love her, but now I wanna watch her suffer. It makes me sick to my stomach thinking she sleeps with others. I wanna break her pictures. I wanna burn her pictures. Everything we had was wrong and now I'm glad it's gone with her. She was a liar, denying that things were alright. but meanwhile, she was up fucking him all night. And all the things that you said, are now stuck in my head. I'm such an idiot, to let you crawl back in my bed. Those phone numbers in your back pocket weren't mine, so fuck you both don't act like it's the first time. [Female] While you were sleeping, I was out creeping. Said I went out with friends, but i was cheating. When you were at home, I was at his home. Slept in his bed, you slept alone. We used to be together, thought it would be forever. Until she turned around and ripped my heart right through my sweater. How come you're so ungrateful. How come this feels so painful. You're not so perfect, was it worth it to be so unfaithful How could i be so naive? Sometimes I'm too trusting. She sleeps with me and then she sleeps with him that's so disgusting. Touching other people's property, obviously you're down with O.P.P. That makes your nature naughty. Everything she ever told me was a fucking lie. Everything she ever did was with some other guy. We should have never hooked up, thought you were one of a kind. You wanna act like a slut? Then do it on your own time. [Female] While you were sleeping, I was out creeping. Said I went out with friends, but i was cheating. When you were at home, I was at his home. Slept in his bed, you slept alone. I never knew it could hurt like this. I dedicate this to you, you bitch. I never knew it could hurt like this. I dedicate this to you, you bitch. Oh my God I never knew love was so fatal. She makes Paris Hilton look like a fucking angel That backstabbing bitch, what happened made me sick. It's the same story, different author, man, the same old shit. I want a perfect girl, it's not a perfect world, cause she's a superstar gold-digging type of girl. my dear, my dear, my dear, you do not know me but I know you very well. And let me tell you that you make my life a, living hell. I'm living well without you, I doubt you, will ever really see the amount of trash you amount to. She's a partial lover, undercover, no class. So take them three minutes and shove them up your stupid ass. I hope you're smart enough to learn from your dumb mistakes. cause if not, you'll learn the hard way when the condom breaks. I never knew it could hurt like this. I dedicate this to you, you bitch I never knew it could hurt like this I dedicate this to you, you bitch.\",\n",
              "        \"She wasn't born anorexic, but nowadays she suffers, staring at these half-naked stars on magazine covers. feeling pressured by the public. She only weighs 90 pounds but still sucks in her stomach. On the inside she's dying, lying to herself, thinking: - 5 more pounds won't jeopardize my health. One day she might just collapse, she can't avoid it. Too many sleepless nights spent bent over a toilet. Spewing vomit, like she was an alcoholic. Praying to a God she never believed in to stop it. Hasnt eaten in weeks, drinks water by the heaps Now she looks like a skeleton she sees in her closet. So close to death she can taste it, body looks wasted. Hates life, hates you, hates the way she looks naked. Now she's feeling drowsy, lousy, thinking maybe this world's better off without me I'm so sorry for all that I've done, I'm so sorry for what I've become. I'm so sorry, so sorry for wasting your time, I can't hold you back ''cause I'm losing my mind. I'm so sorry for all that I've done, I'm so sorry for what I've become. I'm so sorry, so sorry for wasting your time, I can't hold you back ''cause I'm losing my mind. She staring at her belly, she's so scared to touch it, imagining the feeling when it kicks inside her stomach. Too late for safe sex, should have used a latex. She can't afford a baby on minimum wage paychecks. Her waistline climbs by inches, ''cause she traded in the morning workouts for morning sickness. Feeling nauseous, sleeps on a mat because she's cautious. Give life or take life, that's her only options. Only if she had a magic wand, she'd go back to that night and put her clothes back on. But she can't change time, or what's growing inside. How could she love something that's barely alive? Her body's acheing, shaking, from sweaty palms, and cold sweat. Mentally exhausting like phone sex. No regrets, life or death, it's high stakes. ''cause right or wrong, it's only her choice to make. I'm so sorry for all that I've done, I'm so sorry for what I've become. I'm so sorry, so sorry for wasting your time, I can't hold you back ''cause I'm losing my mind. I'm so sorry for all that I've done, I'm so sorry for what I've become. I'm so sorry, so sorry for wasting your time, I can't hold you back ''cause I'm losing my mind. [Side] - Help! [Girl:] You smell like perfume. That's NOT mine. [Guy:] Your head's going fucking crazy, Your head is going crazy. You need to sit down and look in the mirror and look after myself. [Girl:] What? What's so wrong with me that you can't love me? [Guy:] Look- [Girl:] What is wrong with me? I do everything for you. I, I, I make myself look good, I go to the gym. I, I eat like a fucking rabbit. I don't, I don't know what else to do. Tell me. [Guy:] Baby, you don't understand because- [Girl:} Just tell me what i have to do [Guy:] Baby- [Girl:] What it is I have to do to make you love me. I'm so sorry for all that I've done, I'm so sorry for what I've become. I'm so sorry, so sorry for wasting your time, I can't hold you back ''cause I'm losing my mind. I'm so sorry for all that I've done, I'm so sorry for what I've become. I'm so sorry, so sorry for wasting your time, I can't hold you back ''cause I'm losing my mind. I'm so sorry for all that I've done, I'm so sorry for what I've become. I'm so sorry, so sorry for wasting your time, I can't hold you back ''cause I'm losing my mind.\",\n",
              "        \"I remember the stories they used to tell me, about how beautiful and powerful she was. She was a goddess amongst mortal men. Every slight sound she made was a pure as an angel resting on her shoulder. Every whisper she spoke, brought passion and clarity to all those fortunate enough to hear her voice. But that is no longer. Those are just stories from the past. I see the way they treat her now, the way the disrespect and take advantage of her. They used her for their own personal gain, success and fame. They tricked her into thinking it was all done for love, But really, it was done for money. They say money is the root of all evil, but I know its people. It's people who have carried out these treacherous crimes against her. It is people who have tried to suck, and nearly drained the blood of her soul. Her name is Music. She was once innocent, perfect. But now I fear for the worst. The day they drained her of all her blood, will be the day Music dies.\"],\n",
              "       dtype=object),\n",
              " array([\"Well, her hair was the color of the sun Falling down her greatest fear And her lips yielded soft, turned me on She made love to me so sweetly She took away my years (Chorus) She was mine for a little while Bringing warmth into my bed She was mine for a little while How I loved it when she said I love you On the eve of the fifteenth of May Well, I remember what she said She said, I am glad you come my way Then she thanked me for the present Good memories was grown in. (Chorus) She was mine for a little while Bringing warmth into my bed She was mine for a little while How I loved it when she said I love you La la la la la la La la la la la la La la la la la la La la la la la la la x3 Now the line it is drawn The curse is kissed And i've gone my way alone Sometimes feeling not the best And I think about a constant And the spring of '69 (Chorus) She was mine for a little while Bringing warmth into my bed She was mine for a little while How I loved it when she said I love you La la la la la la La la la la la la La la la la la la La la la la la la la x3\",\n",
              "        \"I pray To the god of war To stop this storm Of raining blood To end this war Keep you away From the demon's thorns This is a nightmare And we can't wake up Now it's too late We can't give up Let's fight to send These demons back on the GhOSTLAND! WARR!(Waaaaar) This is WAAAR(This is waaaaaaar) Come/Stay and become demon ripper/hunter You'll see the death I see the sooth Lies are still flying From your mouth I see the words Like bullets fly One for the heart One for the eye My gun is aiming to the head The knife is heading to the chest Soon You will be so fucking dead Soon you will rest in PEAAACEEE!! You'll Rest in PEAAACEE! x3 I pray To the god of war To stop this storm Of raining blood To end this war Keep you away From the demon's thorns This is a nightmare And we can't wake up Now it's too late We can't give up Let's fight to send These demons back on the GhOSTLAND! WARR!(Waaaaar) This is WAAAR(This is waaaaaaar) Come/Stay and become demon ripper/hunter\",\n",
              "        'First a boy and a girl meet each other Then they sit down to talk for a while In your heart, you\\'ll want her for a lover While each step, draws you closer to the aisle You may start with a simple conversation My darling, please put me on trial She says, yes and your heart starts beating While each step, draws you closer to the aisle You ask her if she loves you she answers, \"I do\" Your heart starts glowing inside And then you will know she is just for you While each step, draws you closer to the aisle Then you put a ring on her finger And the tears start flowing awhile Then you\\'ll know she\\'s yours forever While each step, draws you closer to the aisle',\n",
              "        ...,\n",
              "        \"Good evening ladies and gentlemen, And boys you better listen Names have been changed to protect the innocent Just in case it's about you I guess I'm in a little predicament What else can this little girl do There was Peter He was a cheater Who couldn't keep his hands to himself There was Richie Well he got bitchy So I left him there on the shelf So I give up on love I guess I've had enough And I don't give a... what can I do Just when I've found the one And I think loves begun It's falling through So I will dry my eyes And I'll just fantasize And I'll get moisture eyes and think of you I'm lookin for the best And I'll take nothing less Baby what about you A meeting of minds is so hard to find Is there no such a thing as the one They say love is blind 'cause the truth is unkind I'm just a hot-loaded gun There was Henry Now he got friendly While dancing in my pink underwear And there was David When he got naked He didn't have much up, or downstairs So I give up on love I guess I've had enough I don't give a, what can I do Just when I've found the one And I think loves begun It's falling through So I will dry my eyes And I'll just fantasize And I'll get moisture eyes and think of you I'm lookin for the best And I'll take nothing less 'Cause baby what about you I said baby, what about, you\",\n",
              "        \"Just like an apple, Cut down the middle I only have one matching half I gave you the finger You took me to dinner And you made me laugh I took one look in your eye You know when you know it You fit me perfectly right You're the other half of me I thought love was bullshit Only for the foolish But you're the other half of me I never believed it Was too proud to need it But you're the other half of me You're the other half of me You're the other half of me You're better than chocolate You're right in the pocket You were tailor-made for me I wanna have your baby Gotta have you like crazy And iron your shirts I took one look in your eye You know when you know it You fit me perfectly right You're the other half of me I thought love was bullshit Only for the foolish But you're the other half of me I never believed it Was too proud to need it But you're the other half of me You're the other half of me You're the other half of me Half of me You're the other half of me I took one look in your eyes You fit me perfectly right You're the other half of me I thought love was bullshit Only for the foolish But you're the other half of me I never believed it, Was too proud to need it But you're the other half of me, You're the other half of me You're the other half of me Half of me You're the other half of me I took one look in your eyes\",\n",
              "        \"There's something in my heart That I'm burning to say Lovin' you ain't easy 'cause My pride gets in the way Words are like butter Rolling off my lips Cut like a knife And now I'm sinking battleships You know who you are, mm-hmm Give me a reason to take you back Give me a reason to share Give me a reason, 'cause love is in season But give me a reason to care I like my freedom, yeah that's my style My manifesto lullaby Give me a reason, 'cause love is in season But give me no reason to cry There's something in your kiss That I can't let you go My heart says yes My head says no Passion so cruel When it's hard to resist I'm fashionably cool But it's you that I miss Give me a reason to take you back Give me a reason to try Give me a reason, 'cause love is in season But give me no reason My passion's in season But give me no reason to cry\"],\n",
              "       dtype=object)]"
            ]
          },
          "metadata": {},
          "execution_count": 5
        }
      ],
      "source": [
        "lyrics_plot = df_lyrics['lyrics']\n",
        "lyrics_plot = lyrics_plot.to_numpy()\n",
        "lyrics_plot = np.split(lyrics_plot, 5)\n",
        "lyrics_plot"
      ]
    },
    {
      "cell_type": "code",
      "execution_count": null,
      "metadata": {
        "colab": {
          "base_uri": "https://localhost:8080/"
        },
        "id": "3mhE0NaWr7qI",
        "outputId": "e5ee8da2-5c36-49c0-dd8e-2f804738fc29"
      },
      "outputs": [
        {
          "output_type": "stream",
          "name": "stdout",
          "text": [
            "CPU times: user 459 ms, sys: 8.68 ms, total: 468 ms\n",
            "Wall time: 627 ms\n"
          ]
        }
      ],
      "source": [
        "from gensim import corpora\n",
        "\n",
        "#creating term dictionary\n",
        "%time dictionary = corpora.Dictionary(lyrics_plot)\n",
        "\n",
        "#filter out terms which occurs in less than 4 documents and more than 20% of the documents.\n",
        "#NOTE: Since we have smaller dataset, we will keep this commented for now.\n",
        "\n",
        "#dictionary.filter_extremes(no_below=4, no_above=0.2)\n",
        "\n",
        "#list of few which which can be further removed\n",
        "stoplist = set('Oh baby')\n",
        "stop_ids = [dictionary.token2id[stopword] for stopword in stoplist if stopword in dictionary.token2id]\n",
        "dictionary.filter_tokens(stop_ids)\n"
      ]
    },
    {
      "cell_type": "code",
      "execution_count": null,
      "metadata": {
        "colab": {
          "base_uri": "https://localhost:8080/"
        },
        "id": "imo2iODRskcA",
        "outputId": "74850da9-201d-4de2-f948-6188fd85b600"
      },
      "outputs": [
        {
          "output_type": "stream",
          "name": "stdout",
          "text": [
            "[[[' Das letze Lied auf der Party das letzte Lied auf der Welt wir liegen uns in den Armen weil uns sonst nichts mehr hÃ¤lt und Respekt an den DJ drauÃ\\x9fen wird es schon hell das letzte Lied auf der Party sensationell Dann fang ich doch einfach mal an alle Mann, ohne SpaÃ\\x9f kein Fun die Welt kommt mir vor, wie in Technicolor ich bin ein Superpunk, ich bin Rihanna ich bin Drake, ich bin Sly & The Family Stone ich bin Extrabreit, forever young bin einer von 3 Millionen ich umarme dich wahrscheinlich ein bisschen zu doll denn wir beide sind wahrscheinlich ein bisschen zu voll wir sind beide schwer verliebt in diesen Beat, in die Musik dirty motherfuckers mit Herzen aus Gold meine neuen Turnschuh glÃ¤nzen im Licht bin kurz etwas traurig, doch dann kommt der Hit Das letze Lied auf der Party das letzte Lied auf der Welt wir liegen uns in den Armen weil uns sonst nichts mehr hÃ¤lt und Respekt an den DJ drauÃ\\x9fen wird es schon hell das letzte Lied auf der Party sensationell Heute Nacht wird Ã¼bertrieben - mit Absicht morgen bleiben alle liegen - das macht nichts Menschen und Lieder, die wir lieben - fantastisch und noch ne Runde Schnaps - zum Nachtisch wir sind am Leben ganz eindeutig weil alles strahlt und alles leuchtet die eine Hand in der Luft die andere im Schritt Leute, seid ihr mit? Und ist die Welt auch manchmal ScheiÃ\\x9fe heut vergessen wir davon das Meiste die Dummheit, der Schmutz, kriegen uns nicht kaputt DJ komm schenk ein! Das letze Lied auf der Party das letzte Lied auf der Welt wir liegen uns in den Armen weil uns sonst nichts mehr hÃ¤lt und Respekt an den DJ drauÃ\\x9fen wird es schon hell das letzte Lied auf der Party sensationell Eigentlich bin ich schon viel zu besoffen, um hier noch so abartig derbe zu flowen doch heute hab ich alle meine Freunde getroffen und bin eine sehr gesellige Person und deswegen lass ich ihn einen guten Mann sein, den lieben Gott und spring hier durch den Laden wie\\'n bekloppter Ziegenbock interessanterweise fÃ¼hle ich mich ganz ok obwohl die Welt um mich herum scheinbar zu Grunde geht ich trage ein Schwert aus purer Euphorie und ein Umhang aus Melancholie noch ne Polonaise bis zum Cafe Keese und dann im Champagner baden, wie Dita von Teese kommt schon Leute heute leben wir nur einmal Niels Frevert sagt: \"Morgen is egal\" Das letze Lied auf der Party das letzte Lied auf der Welt wir liegen uns in den Armen weil uns sonst nichts mehr hÃ¤lt und Respekt an den DJ drauÃ\\x9fen wird es schon hell das letzte Lied auf der Party sensationell', 0], [\" Like a fire in the night Who's flames reach and touch the sky Burn within my soul and mind 'Till all I see are Your eyes Like the dawn takes back the light Like Your Son brought back to life Resurrect my soul's desire To burn again with true love's fire With true love's fire Lord God come awaken love Come stir my soul to long for all You are I'm desperate just to have more of Your heart Come awaken love 'Cause I live to love You Almighty God of love And my desire is to know you And give you all my heart\", 1], [\"!Ã\\x93igame compay! No deje camino por coger la vereda !Ã\\x93igame compay! No deje camino por coger la vereda Usted por enamorado Tan viejo y con poco brillo Usted por enamorado Tan viejo y con poco brillo El pollo que tiene al lado Le ha hecho perder el trillo !Ã\\x93igame compay! No deje camino por coger la vereda !Ã\\x93igame compay! No deje camino por coger la vereda Ay, pero yo como soy tan sencillo Pongo en claro esta trovada Yo como soy tan sencillo Pongo en claro esta trovada Compay, yo no dejo el trillo Para meterme en CanadÃ¡ !Ã\\x93igame compay! No deje camino por coger la vereda !Ã\\x93igame compay! No deje camino por coger la vereda Ay, pero estabamo' comentando Por que ha abandonado a Andrea Estabamo' comentando Por que ha abandonado a Andrea Compadre uste' 'ta cambiando De camino por vereda !Ã\\x93igame compay! No deje camino por coger la vereda Pero Ã³igame compay! No deje camino por coger la vereda !Ã\\x93igame compay! No deje camino por coger la vereda Pero mire compadrito, uste' ha 'dejao' a la Pobre Geraldina para meterse con Dorotea !Ã\\x93igame compay! No deje camino por coger la vereda !Ã\\x93igame compay! No deje camino por coger la vereda !Ã\\x93igame compay! No deje camino por coger la vereda No hables de tu marido, mujer Mujer de malos sentimientos Todo se te ha vuelto un cuento Porque no ha llegado la hora fatal !Ã\\x93igame compay! No deje camino por coger la vereda Ay pero Ã³igame compay! No deje camino por coger la vereda !Ã\\x93igame compay! No deje camino por coger la vereda Ay ay ay ay, canta y no llore' Eliade' !Ã\\x93igame compay! No deje camino por coger la vereda Porque cantando se alegran, cielito mio los corazones !Ã\\x93igame compay! No deje camino por coger la vereda No hables de tu marido, mujer Mujer de malos sentimientos Todo se te ha vuelto un cuento Porque no ha llegado la hora fatal !Ã\\x93igame compay! No deje camino por coger la vereda !Ã\\x93igame compay! No deje camino por coger la vereda !Ã\\x93igame compay! No deje camino por coger la vereda Ay, hoyanle, hoyanle, hoyanle al mayoral !Ã\\x93igame compay! No deje camino por coger la vereda Pero ahora ese seÃ±or estÃ¡ en el paso y no me deja pasar !Ã\\x93igame compay! No deje camino por coger la vereda CalamÃ¡n, calamÃ¡n, calamÃ¡n con chevere Camina como chevere ha matao su madre, mama !Ã\\x93igame compay! No deje camino por coger la vereda\", 2], ['\"At the end of this long and lonely path, All misery will be gone\" Down this long and twining road I walk with heavy feet My head sunk down below I have made up my mind It\\'s time to end this life Then peace I will find Walking down to my funeral The mortal sin... Some might be sad I\\'ll die with a grin Walking down to my funeral It\\'s time to die When I leave this pathetic world I will hold my head high Angels are watching from above As so does the evil ones That lurks down below... I am almost there - at my funeral I reach the end of the twining road I put a bullet in my gun, don\\'t need to reload Feel the cold steel to my head It\\'s time to pull the trigger Soon I\\'ll be dead Now when I\\'m at my funeral I feel so free Some might be sad I\\'ll die with a grin Now I\\'m at my funeral I feel so free The mortal sin... Sin... Angels and demons Reach out for me Kingdom\\'s wide open, But I walk away from - thee As I walk away... \"For eternal in twilight I dwell\" Walking down to my funeral The mortal sin... Some might be sad I\\'ll die with a grin Walking down to my funeral It\\'s time to die When I leave this pathetic world I will hold my head high Hold my head high...', 3], ['\"Bloody Revolution\" by Crass originally recorded 1980 You talk about your revolution, well, that\\'s fine But what are you going to be doing come the time? Are you going to be the big man with the tommy-gun? Will you talk of freedom when the blood begins to run? Well, freedom has no value if violence is the price Don\\'t want your revolution, I want anarachy and peace Chorus: You talk of over throwing power with violence as your tool You speak of liberation and when the people rule Well ain\\'t it people rule right now, what differnce would there be? Just another set of bigots with their rifle-sights on me But what about those people who don\\'t want your new restrictions? Those that disagree with you and have their own convictions? You say thay\\'ve got it wrong becuase they don\\'t agree with you So when the recolution comes you\\'ll have to run them through Yet you say that revoution will bring freedom for us all Well freedom just ain\\'t freedom when your back\\'s against the wall Chorus Will you indoctrinate the masses to serve your new regime? And simply do away with those whose views are too extreme? Transportation details could be left to British rail Where Zyklon B sucessed, North Sea Gas will fail It\\'s just the same old story of man destroying man We\\'ve got to look for other answers to the problems of this land Chorus Vive la revolution, people of the world unite Stand up of courage, it\\'s your job to fight It all seems very easy, this revolution game But when you start to really play thing won\\'t be quite the same Your intellectual theories on how it\\'s going to be Don\\'t seem to take into accoutn the true reality Cos the truth of what you\\'re saying, as you sit there sipping beer Is pain and death and suffering, but of course you wouldn\\'t care You\\'re far too much of a man for that, if Mao did it so can you What\\'s the fredom of us all agaist the suffering of a few? That\\'s the kind of self-deception that killed ten million jews Just the same false logic that all power-mogers use So don\\'t think you can fool me wiht your political tricks Bovernment is government and all government is force Left of right, right or left, it takes the same old course Oppression and restriction, regulation, rule and law The seizre of that power is all your revolution\\'s for You romanticise your heroes, qutoe from Marx and Mao Well thir ideas of freedom are just oppression now Nothing\\'s changed for all the death that their ideas created It\\'s just the same fascistic games, but the rules aren\\'t clearly stated Nothing\\'s really different cos all government\\'s the same They can call it freedom, but slavery is the game There\\'s nothgin that you offer but a dream of last years hero The truth of revolution, bother..................... is year zero', 4], ['\"By the Pool\" [Verse 1:] One breath Killin me soundly when your eyes set Like a butterfly I\\'m flyin so high To see the true beauty you do Feelin hopped up on your love Potion got me like a drug Disobeyin every use Usin you like amaloo (loo) Wanna get you wrapped around my finger Reminiscence, on you linger With your neck sweat, get you get (wet) Out of my mind, one thing catchin my mind [Chorus 1:] By the pool (get down, and around, and off the ground) By the pool (hotline, in design, nothing up in his eye) By the pool (so dirty, on my hony-callarony) By the pool (e-rratic, systematic, titanic) By the pool [Verse 2:] Lay on me Nothin that you gotta give you gave me You should know that, I ain\\'t playin no games for your attention All these feelings, did I mention? Try to remember I see you stranger Over my way With my colored lip gloss stained On your ripped up t-shirt pained Flashin it down, couldn\\'t care That we throwin up in the air (air) And maybe we blazed it day n night Flickered tac-toe, am I right? Checkered black boards, my flat boards Didn\\'t think I\\'d get my black one boy... [Chorus 2:] By the pool (make your mark, we get gun lethal inter-spark) By the pool (we so fly, chicken little why, nothing up in the sky) By the pool (so dirty, all my homies gone get wordy) By the pool (space rocket, supersonic, h-tonic) By the pool [Bridge:] Round and round you had me spinnin Cast up over the world Hear me, all of the the words I\\'m singin One, two, bear my soul [Chorus 3:] By the pool (get down, and around, and off the ground) By the pool (hotline, in design, nothing up in his eye) By the pool (so dirty, on my hony-callarony) By the pool (e-rratic, systematic, titanic) By the pool (get down, and around, and off the ground) By the pool (we so fly, chicken little why, nothing up in the sky) By the pool (so dirty, on my hony-callarony) By the pool (space rocket, supersonic, h-trynaget) By the pool', 5], ['\"Christmas Holiday\" (Craig Smith) Hear the bells ringing Their ting-a-ling sound. See the fresh snow, It\\'s white on the ground. Hang up the stockings and Let\\'s have a holiday, today. Bring out the holly, we mustn\\'t delay! \\'Cause all of our friends will be stopping today. Warm the hot chocolate And bring out the marshmallow tray. This year, we shall know a wonderful Christmas And the glow of candlelight Let\\'s have a fling! I\\'ll give you my present, a wedding ring! Hear me sing. Turkey\\'s a-cookin\\' and candy cane sticks, With reindeer and sleigh bells and good old Saint Nick Two kids sneakin\\' kisses beneath all the mistletoe, As if we didn\\'t know! This year, we shall know a wonderful Christmas And the glow of candlelight Let\\'s have a fling! I\\'ll give you my present, a wedding ring! Hear me sing. Yuletide, good cheer! Christmas is here. This one, we\\'ll share, We haven\\'t a care. It\\'s Christmas! Such a very Merry Christmas! Extraordinary Christmastime is here!', 6], ['\"Clang, clang, clang\" went the trolley \"Ding, ding, ding\" went the bell \"Zing, zing, zing\" went my heartstrings For the moment I saw him I fell \"Chug, chug, chug\" went the motor \"Bump, bump, bump\" went the brake \"Thump, thump, thump\" went my heartstrings When he smiled, I could feel the car shake He tipped his hat, and took a seat He said he hoped he hadn\\'t stepped upon my feet He asked my name I held my breath I couldn\\'t speak because he scared me half to death \"Buzz, buzz, buzz\" went the buzzer \"Plop, plop, plop\" went the wheels \"Stop, stop, stop\" went my heartstrings As he started to leave I took hold of his sleeve with my hand', 7], ['\"Dance with us\", as written by Francesco Settesoldi Copyright 2008 You didn\\'t want to move but now you can\\'t stop your body you can\\'t \\'cause you are here to dance with us You didn\\'t want to move but now you feel like you\\'re higher you feel like one who\\'s living all the time And when the night comes out I know it would not last for long, so dance with me And when the sun wakes up again, we\\'re ready for another happy day You didn\\'t want to move but now you can\\'t stop your body you can\\'t \\'cause you are here to dance with us You didn\\'t want to move but now you feel like you\\'re lighter you feel like one who\\'s singing all the time And when the night comes out I know it would not last for long, so dance with me And when the sun wakes up again, we\\'re ready for another happy day', 8], ['\"Dim the Lights\" [Intro:] Ah, ah Club (imma-imma) Get us in the hub (get it) And we gonna one up (ah, get it) Frizz it off (imma-imma) Get down for this (finale) Ain\\'t we gonna stop it (break it down now) [Hook:] ...Got ya come on through ...What you wanna do? Ladies [Verse 1:] Wakin\\' up the pace in time, find the light (bright) On-to-day, kick it back and call it on my minute to right (psyche) Sending out to the list I missed Catch the feeling for the bliss Send out the night, finding the light, make it alright Dim the lights Takin\\' the ringin\\', ain\\'t missin\\', now listen To chance in takin\\' Dim the lights All on my holla blingin\\', ain\\'t touch the ceilin\\' that glistens You ha\\'me singing [Chorus 1:] Party the night Wear it down to the housin\\' crown (bring it down) Making it right (all night) And I got ya, now mister won\\'t ya Dim the lights Oh and I won\\'t stop all, come on close-up (closer) All on my live, brighten the light, dim the lights [Hook:] Don\\'t stop (ba-da-ba-ba) till this gon\\' drop (ayo) Make it hot (ba-ba-ba, ayo) Two stop (ba-da-ba-ba) lipstick flock (ayo) One more shot (ba-ba-ba, ayo) [Verse 2:] Roll it out set on a row Dice the spice in, mind I go? Bless it down, light it up Move to prove just your belong Why, hear it across the heart The hand-print down the chart If you listen, not a commission Know what right or wrong... Watch all you say Gon\\', don\\'t get to me baby Catchin\\' that I say Two game, we play (now tell me bout) Dim the lights Know it will be alright Dim the lights You gonna read me, infuse, embed me, and share me You know I\\'m bringing [Chorus 2:] Party the night Own to face, we gonna hit this pace (disgrace) Making it right (tonight) Can\\'t you see, now baby feel me Only tonight (raise the light) Boys \\'n\\' toys, we gonna make some noise Dim the lights, dim the lights, dim the lights [Hook:] Don\\'t stop (ba-da-ba-ba) lockin\\' lipstick flock (ayo) One more shot (ba-ba-ba, ayo) Slick back (ba-da-ba-ba) on this two tock (ayo) Frizz it off (ba-ba-ba, ayo) [Chorus 3:] Party the night (oo-oo... come on, night in) Wear it down to the housin\\' crown (bring it down) Making it right (all night) And I got ya, now mister won\\'t ya Dim the lights (the lights) Oh and I won\\'t stop all, come on close-up (closer) All on my live (oh), brighten the light (oh), dim the lights (all on-in-on my) Hold it tight (oo-oo) Come to scare on my skin too bare Shining so bright (oo-oo-oo) Know I got this, I want this, flaunt this Only tonight (tonight) Ain\\'t for show we glow it in a row Dim the lights (oh), dim the lights (oh), dim the lights (come on, come on, come on, come on, come on) [Outro:] Ah, ah That- what I\\'m talkin\\' bout (imma-imma) Raise the light HOW?', 9], ['\"Do They Owe Us a Living\" by Crass (c) 1977 Fuck the politically minded Here\\'s something I want to say About the state of the nation The way it treats us todayAt school they give you shit Drop you in the pit You try and try and try to get out But you can\\'t Becuase they\\'be fucked you about then you\\'re a prime example Of how they must not be This is just a sample Of what they\\'be done To you and me Chorus: Do they owe us a living? Of course they do Of course they do Do they owe us a living? Of course they do Of course they do Do they owe us a living? OF COURSE THEY FUCKING DO! They don\\'t want me anymore Cos I threw it on the floor They used to call me sweet thing But I\\'m nobdy\\'s plaything And now that I am different They\\'d love to bust my head They\\'d love to see me cop-out They\\'d love to see me dead Chorus The living that is owed to me I\\'m never doing to get They\\'ve buggered this old world up Up to their necks in debt They\\'d five you a lobotomy For something you ain\\'t done They\\'ll made you an epitomy Of everything that\\'s wrong Chorus Don\\'t take any notice Of what the public think They\\'re so hyped up with T.V. Thay just don\\'t wna tot think They\\'ll use you as a target For demands and for advice When you don\\'t want to hear it They\\'ll say you\\'re full of vice Chorus', 10]]]\n"
          ]
        }
      ],
      "source": [
        "#print top 10 items from the dictionary with their unique token-id\n",
        "dict_tokens = [[[dictionary[key], dictionary.token2id[dictionary[key]]] for key, value in dictionary.items() if key <= 10]]\n",
        "print (dict_tokens)"
      ]
    },
    {
      "cell_type": "code",
      "execution_count": null,
      "metadata": {
        "colab": {
          "base_uri": "https://localhost:8080/"
        },
        "id": "OIGbb0igsyLt",
        "outputId": "78b7a35a-b4fb-48c9-a3d3-65a5645d64aa"
      },
      "outputs": [
        {
          "output_type": "stream",
          "name": "stderr",
          "text": [
            "IOPub data rate exceeded.\n",
            "The notebook server will temporarily stop sending output\n",
            "to the client in order to avoid crashing it.\n",
            "To change this limit, set the config variable\n",
            "`--NotebookApp.iopub_data_rate_limit`.\n",
            "\n",
            "Current values:\n",
            "NotebookApp.iopub_data_rate_limit=1000000.0 (bytes/sec)\n",
            "NotebookApp.rate_limit_window=3.0 (secs)\n",
            "\n"
          ]
        }
      ],
      "source": [
        "corpus = [dictionary.doc2bow(desc) for desc in lyrics_plot]\n",
        "\n",
        "word_frequencies = [[(dictionary[id], frequency) for id, frequency in line] for line in corpus[0:1]]\n",
        "\n",
        "print(word_frequencies)"
      ]
    },
    {
      "cell_type": "code",
      "execution_count": null,
      "metadata": {
        "colab": {
          "base_uri": "https://localhost:8080/"
        },
        "id": "pZo4axmeuay3",
        "outputId": "e6ea6418-a957-474c-cc50-2f5861db287b"
      },
      "outputs": [
        {
          "output_type": "stream",
          "name": "stdout",
          "text": [
            "CPU times: user 381 ms, sys: 12.1 ms, total: 393 ms\n",
            "Wall time: 996 ms\n",
            "CPU times: user 24.2 s, sys: 3.63 s, total: 27.9 s\n",
            "Wall time: 32 s\n"
          ]
        }
      ],
      "source": [
        "%time lyrics_tfidf_model = gensim.models.TfidfModel(corpus, id2word=dictionary)\n",
        "%time lyrics_lsi_model = gensim.models.LsiModel(lyrics_tfidf_model[corpus], id2word=dictionary, num_topics=300)"
      ]
    },
    {
      "cell_type": "code",
      "execution_count": null,
      "metadata": {
        "colab": {
          "base_uri": "https://localhost:8080/"
        },
        "id": "exChoYWavls4",
        "outputId": "fddaca32-b5eb-4c2b-8f6b-3d59c8cf711d"
      },
      "outputs": [
        {
          "output_type": "stream",
          "name": "stdout",
          "text": [
            "CPU times: user 569 ms, sys: 98.2 ms, total: 667 ms\n",
            "Wall time: 575 ms\n",
            "CPU times: user 386 ms, sys: 5.77 ms, total: 392 ms\n",
            "Wall time: 392 ms\n"
          ]
        }
      ],
      "source": [
        "%time gensim.corpora.MmCorpus.serialize('lyrics_tfidf_model_mm', lyrics_tfidf_model[corpus])\n",
        "%time gensim.corpora.MmCorpus.serialize('lyrics_lsi_model_mm',lyrics_lsi_model[lyrics_tfidf_model[corpus]])"
      ]
    },
    {
      "cell_type": "code",
      "execution_count": null,
      "metadata": {
        "colab": {
          "base_uri": "https://localhost:8080/"
        },
        "id": "fPcQodlFvSMB",
        "outputId": "5ce4b351-c112-459b-f05b-885a8193b034"
      },
      "outputs": [
        {
          "output_type": "stream",
          "name": "stdout",
          "text": [
            "MmCorpus(5 documents, 78460 features, 78460 non-zero entries)\n",
            "MmCorpus(5 documents, 5 features, 25 non-zero entries)\n"
          ]
        }
      ],
      "source": [
        "#Load the indexed corpus\n",
        "lyrics_tfidf_corpus = gensim.corpora.MmCorpus('lyrics_tfidf_model_mm')\n",
        "lyrics_lsi_corpus = gensim.corpora.MmCorpus('lyrics_lsi_model_mm')\n",
        "\n",
        "print(lyrics_tfidf_corpus)\n",
        "print(lyrics_lsi_corpus)"
      ]
    },
    {
      "cell_type": "code",
      "execution_count": null,
      "metadata": {
        "colab": {
          "base_uri": "https://localhost:8080/"
        },
        "id": "IH9j2rjpvf0Z",
        "outputId": "b35377d2-86bd-4a1e-d2e7-1324ab50b025"
      },
      "outputs": [
        {
          "output_type": "stream",
          "name": "stdout",
          "text": [
            "CPU times: user 1.85 ms, sys: 0 ns, total: 1.85 ms\n",
            "Wall time: 1.71 ms\n"
          ]
        }
      ],
      "source": [
        "from gensim.similarities import MatrixSimilarity\n",
        "\n",
        "%time lyrics_index = MatrixSimilarity(lyrics_lsi_corpus, num_features = lyrics_lsi_corpus.num_terms)"
      ]
    },
    {
      "cell_type": "code",
      "execution_count": null,
      "metadata": {
        "id": "MGJbiAUtwEb_"
      },
      "outputs": [],
      "source": [
        "from operator import itemgetter\n",
        "\n",
        "def search_similar_lyrics(search_term):\n",
        "\n",
        "    query_bow = dictionary.doc2bow(spacy_tokenizer(search_term))\n",
        "    query_tfidf = lyrics_tfidf_model[query_bow]\n",
        "    query_lsi = lyrics_lsi_model[query_tfidf]\n",
        "\n",
        "    lyrics_index.num_best = 5\n",
        "\n",
        "    lyrics_list = lyrics_index[query_lsi]\n",
        "\n",
        "    lyrics_list.sort(key=itemgetter(1), reverse=True)\n",
        "    lyrics_names = []\n",
        "\n",
        "    for j, lyrics in enumerate(lyrics_list):\n",
        "\n",
        "        lyrics_names.append (\n",
        "            {\n",
        "                'song': round((lyrics[1] * 100),2),\n",
        "                'artist': df_lyrics['lyrics'][lyrics[0]],\n",
        "                'genre': df_lyrics['song'][lyrics[0]]\n",
        "            }\n",
        "\n",
        "        )\n",
        "        if j == (lyrics_index.num_best-1):\n",
        "            break\n",
        "\n",
        "    return pd.DataFrame(df_lyrics, columns=['song','artist','genre', 'lyrics'])"
      ]
    },
    {
      "cell_type": "code",
      "execution_count": null,
      "metadata": {
        "colab": {
          "base_uri": "https://localhost:8080/"
        },
        "id": "lzADkkr0wIsT",
        "outputId": "67d77745-241c-4b14-b26e-f6d5cb4abe35"
      },
      "outputs": [
        {
          "output_type": "stream",
          "name": "stdout",
          "text": [
            "                               song  ...                                             lyrics\n",
            "137                         freedom  ...  Tryna rain, tryna rain on the thunder Tell the...\n",
            "267               warm-winter-night  ...  There's noone I'd rather be with on this winte...\n",
            "268                   here-with-you  ...  To all my friends The night is young The music...\n",
            "284                       jerusalem  ...  Where the mothers of sonsnever cease their wee...\n",
            "445                        love-for  ...  We from side to season sun and moon ever full ...\n",
            "...                             ...  ...                                                ...\n",
            "78018                   hear-me-out  ...  I was drowning in the rain Getting lost beneat...\n",
            "78098                    crazy-fool  ...  Hi, how you Bet you didn't even think I knew A...\n",
            "78120                  love-is-pain  ...  What you are What you see It don't matter to m...\n",
            "78156  the-last-song-i-ll-ever-sing  ...  I'm inviting you to my vaudeville \"Oui encore\"...\n",
            "78220                      one-more  ...  Dont stop now cause what I want has never matt...\n",
            "\n",
            "[1698 rows x 4 columns]\n"
          ]
        }
      ],
      "source": [
        "# search for song titles that are related to below search parameters\n",
        "function_applied = search_similar_lyrics('Hear')\n",
        "query = function_applied[function_applied['lyrics'].str.contains(\"Hear\")]\n",
        "print(query)"
      ]
    }
  ],
  "metadata": {
    "colab": {
      "provenance": []
    },
    "kernelspec": {
      "display_name": "Python 3",
      "name": "python3"
    },
    "language_info": {
      "name": "python"
    }
  },
  "nbformat": 4,
  "nbformat_minor": 0
}